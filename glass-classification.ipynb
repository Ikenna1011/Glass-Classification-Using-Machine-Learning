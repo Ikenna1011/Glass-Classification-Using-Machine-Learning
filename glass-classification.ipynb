{
 "cells": [
  {
   "cell_type": "markdown",
   "id": "9c9bd671",
   "metadata": {},
   "source": [
    "## Glass Identification Using Machine Learning"
   ]
  },
  {
   "cell_type": "markdown",
   "id": "8f742fa2",
   "metadata": {},
   "source": [
    "### 1.0 Problem"
   ]
  },
  {
   "cell_type": "markdown",
   "id": "ed5d4715",
   "metadata": {},
   "source": [
    "### 1.1 Definition\n",
    "The goal of this project is to develop a machine learning model for glass classification that can accurately predict the type of glass based on its attributes. The dataset's target feature represents the following glass types:\n",
    "\n",
    "- 1: Building windows (float processed)\n",
    "- 2: Building windows (non-float processed)\n",
    "- 3: Vehicle windows (float processed)\n",
    "- 4: Vehicle windows (non-float processed) *(not present in this dataset)*\n",
    "- 5: Containers\n",
    "- 6: Tableware\n",
    "- 7: Headlamps\n",
    "\n",
    "### 1.2 Why is it worth solving?\n",
    "Accurately predicting glass types is crucial for industries that rely on selecting the appropriate glass for specific applications. By leveraging a machine learning model, workers and manufacturers can efficiently identify the correct glass type, reducing errors and improving productivity. This model can serve as a valuable tool for ensuring the right glass is used for the right purpose.\n",
    "\n",
    "The glass identification dataset contains 10 attributes (including an ID column), with the target feature being the glass type, which is a discrete variable with 7 possible values. For this study, the target class will be represented as integers."
   ]
  },
  {
   "cell_type": "code",
   "execution_count": 1,
   "id": "a339de02",
   "metadata": {
    "execution": {
     "iopub.execute_input": "2021-10-08T16:21:51.081344Z",
     "iopub.status.busy": "2021-10-08T16:21:51.080493Z",
     "iopub.status.idle": "2021-10-08T16:21:51.839861Z",
     "shell.execute_reply": "2021-10-08T16:21:51.839041Z",
     "shell.execute_reply.started": "2021-10-08T16:19:23.922603Z"
    },
    "papermill": {
     "duration": 0.790743,
     "end_time": "2021-10-08T16:21:51.840066",
     "exception": false,
     "start_time": "2021-10-08T16:21:51.049323",
     "status": "completed"
    },
    "tags": []
   },
   "outputs": [],
   "source": [
    "#Import libraries.\n",
    "import pandas as pd\n",
    "import numpy as np\n",
    "import seaborn as sns\n",
    "import matplotlib.pyplot as plt"
   ]
  },
  {
   "cell_type": "code",
   "execution_count": 2,
   "id": "58bf7f35",
   "metadata": {
    "execution": {
     "iopub.execute_input": "2021-10-08T16:21:51.887141Z",
     "iopub.status.busy": "2021-10-08T16:21:51.886379Z",
     "iopub.status.idle": "2021-10-08T16:21:51.926459Z",
     "shell.execute_reply": "2021-10-08T16:21:51.926968Z",
     "shell.execute_reply.started": "2021-10-08T16:19:24.881489Z"
    },
    "papermill": {
     "duration": 0.06718,
     "end_time": "2021-10-08T16:21:51.927165",
     "exception": false,
     "start_time": "2021-10-08T16:21:51.859985",
     "status": "completed"
    },
    "tags": []
   },
   "outputs": [],
   "source": [
    "#Get the raw data.\n",
    "my_file=\"glass.csv\"\n",
    "df=pd.read_csv(my_file, encoding='utf-8')"
   ]
  },
  {
   "cell_type": "code",
   "execution_count": 3,
   "id": "87ef828b",
   "metadata": {
    "execution": {
     "iopub.execute_input": "2021-10-08T16:21:51.988384Z",
     "iopub.status.busy": "2021-10-08T16:21:51.987547Z",
     "iopub.status.idle": "2021-10-08T16:21:51.992520Z",
     "shell.execute_reply": "2021-10-08T16:21:51.991798Z",
     "shell.execute_reply.started": "2021-10-08T16:19:24.933458Z"
    },
    "papermill": {
     "duration": 0.042535,
     "end_time": "2021-10-08T16:21:51.992735",
     "exception": false,
     "start_time": "2021-10-08T16:21:51.950200",
     "status": "completed"
    },
    "tags": []
   },
   "outputs": [
    {
     "data": {
      "text/html": [
       "<div>\n",
       "<style scoped>\n",
       "    .dataframe tbody tr th:only-of-type {\n",
       "        vertical-align: middle;\n",
       "    }\n",
       "\n",
       "    .dataframe tbody tr th {\n",
       "        vertical-align: top;\n",
       "    }\n",
       "\n",
       "    .dataframe thead th {\n",
       "        text-align: right;\n",
       "    }\n",
       "</style>\n",
       "<table border=\"1\" class=\"dataframe\">\n",
       "  <thead>\n",
       "    <tr style=\"text-align: right;\">\n",
       "      <th></th>\n",
       "      <th>RI</th>\n",
       "      <th>Na</th>\n",
       "      <th>Mg</th>\n",
       "      <th>Al</th>\n",
       "      <th>Si</th>\n",
       "      <th>K</th>\n",
       "      <th>Ca</th>\n",
       "      <th>Ba</th>\n",
       "      <th>Fe</th>\n",
       "      <th>Type</th>\n",
       "    </tr>\n",
       "  </thead>\n",
       "  <tbody>\n",
       "    <tr>\n",
       "      <th>0</th>\n",
       "      <td>1.52101</td>\n",
       "      <td>13.64</td>\n",
       "      <td>4.49</td>\n",
       "      <td>1.10</td>\n",
       "      <td>71.78</td>\n",
       "      <td>0.06</td>\n",
       "      <td>8.75</td>\n",
       "      <td>0.0</td>\n",
       "      <td>0.0</td>\n",
       "      <td>1</td>\n",
       "    </tr>\n",
       "    <tr>\n",
       "      <th>1</th>\n",
       "      <td>1.51761</td>\n",
       "      <td>13.89</td>\n",
       "      <td>3.60</td>\n",
       "      <td>1.36</td>\n",
       "      <td>72.73</td>\n",
       "      <td>0.48</td>\n",
       "      <td>7.83</td>\n",
       "      <td>0.0</td>\n",
       "      <td>0.0</td>\n",
       "      <td>1</td>\n",
       "    </tr>\n",
       "    <tr>\n",
       "      <th>2</th>\n",
       "      <td>1.51618</td>\n",
       "      <td>13.53</td>\n",
       "      <td>3.55</td>\n",
       "      <td>1.54</td>\n",
       "      <td>72.99</td>\n",
       "      <td>0.39</td>\n",
       "      <td>7.78</td>\n",
       "      <td>0.0</td>\n",
       "      <td>0.0</td>\n",
       "      <td>1</td>\n",
       "    </tr>\n",
       "    <tr>\n",
       "      <th>3</th>\n",
       "      <td>1.51766</td>\n",
       "      <td>13.21</td>\n",
       "      <td>3.69</td>\n",
       "      <td>1.29</td>\n",
       "      <td>72.61</td>\n",
       "      <td>0.57</td>\n",
       "      <td>8.22</td>\n",
       "      <td>0.0</td>\n",
       "      <td>0.0</td>\n",
       "      <td>1</td>\n",
       "    </tr>\n",
       "    <tr>\n",
       "      <th>4</th>\n",
       "      <td>1.51742</td>\n",
       "      <td>13.27</td>\n",
       "      <td>3.62</td>\n",
       "      <td>1.24</td>\n",
       "      <td>73.08</td>\n",
       "      <td>0.55</td>\n",
       "      <td>8.07</td>\n",
       "      <td>0.0</td>\n",
       "      <td>0.0</td>\n",
       "      <td>1</td>\n",
       "    </tr>\n",
       "  </tbody>\n",
       "</table>\n",
       "</div>"
      ],
      "text/plain": [
       "        RI     Na    Mg    Al     Si     K    Ca   Ba   Fe  Type\n",
       "0  1.52101  13.64  4.49  1.10  71.78  0.06  8.75  0.0  0.0     1\n",
       "1  1.51761  13.89  3.60  1.36  72.73  0.48  7.83  0.0  0.0     1\n",
       "2  1.51618  13.53  3.55  1.54  72.99  0.39  7.78  0.0  0.0     1\n",
       "3  1.51766  13.21  3.69  1.29  72.61  0.57  8.22  0.0  0.0     1\n",
       "4  1.51742  13.27  3.62  1.24  73.08  0.55  8.07  0.0  0.0     1"
      ]
     },
     "execution_count": 3,
     "metadata": {},
     "output_type": "execute_result"
    }
   ],
   "source": [
    "#Get first five rows of data set.\n",
    "df.head()"
   ]
  },
  {
   "cell_type": "code",
   "execution_count": 4,
   "id": "b3899321",
   "metadata": {},
   "outputs": [
    {
     "data": {
      "text/plain": [
       "(214, 10)"
      ]
     },
     "execution_count": 4,
     "metadata": {},
     "output_type": "execute_result"
    }
   ],
   "source": [
    "#Get the shape of glass data.\n",
    "df.shape"
   ]
  },
  {
   "cell_type": "code",
   "execution_count": 5,
   "id": "fef25df7",
   "metadata": {},
   "outputs": [
    {
     "data": {
      "text/plain": [
       "RI      float64\n",
       "Na      float64\n",
       "Mg      float64\n",
       "Al      float64\n",
       "Si      float64\n",
       "K       float64\n",
       "Ca      float64\n",
       "Ba      float64\n",
       "Fe      float64\n",
       "Type      int64\n",
       "dtype: object"
      ]
     },
     "execution_count": 5,
     "metadata": {},
     "output_type": "execute_result"
    }
   ],
   "source": [
    "#Check data types.\n",
    "df.dtypes"
   ]
  },
  {
   "cell_type": "code",
   "execution_count": 6,
   "id": "d2abe418",
   "metadata": {
    "execution": {
     "iopub.execute_input": "2021-10-08T16:21:52.045492Z",
     "iopub.status.busy": "2021-10-08T16:21:52.044233Z",
     "iopub.status.idle": "2021-10-08T16:21:52.067213Z",
     "shell.execute_reply": "2021-10-08T16:21:52.066550Z",
     "shell.execute_reply.started": "2021-10-08T16:19:24.951723Z"
    },
    "papermill": {
     "duration": 0.052526,
     "end_time": "2021-10-08T16:21:52.067385",
     "exception": false,
     "start_time": "2021-10-08T16:21:52.014859",
     "status": "completed"
    },
    "tags": []
   },
   "outputs": [
    {
     "name": "stdout",
     "output_type": "stream",
     "text": [
      "<class 'pandas.core.frame.DataFrame'>\n",
      "RangeIndex: 214 entries, 0 to 213\n",
      "Data columns (total 10 columns):\n",
      " #   Column  Non-Null Count  Dtype  \n",
      "---  ------  --------------  -----  \n",
      " 0   RI      214 non-null    float64\n",
      " 1   Na      214 non-null    float64\n",
      " 2   Mg      214 non-null    float64\n",
      " 3   Al      214 non-null    float64\n",
      " 4   Si      214 non-null    float64\n",
      " 5   K       214 non-null    float64\n",
      " 6   Ca      214 non-null    float64\n",
      " 7   Ba      214 non-null    float64\n",
      " 8   Fe      214 non-null    float64\n",
      " 9   Type    214 non-null    int64  \n",
      "dtypes: float64(9), int64(1)\n",
      "memory usage: 16.8 KB\n"
     ]
    }
   ],
   "source": [
    "#Check data attributes.\n",
    "df.info()"
   ]
  },
  {
   "cell_type": "code",
   "execution_count": 7,
   "id": "00ac36d1",
   "metadata": {
    "execution": {
     "iopub.execute_input": "2021-10-08T16:21:52.120484Z",
     "iopub.status.busy": "2021-10-08T16:21:52.119423Z",
     "iopub.status.idle": "2021-10-08T16:21:52.155716Z",
     "shell.execute_reply": "2021-10-08T16:21:52.156229Z",
     "shell.execute_reply.started": "2021-10-08T16:19:24.979955Z"
    },
    "papermill": {
     "duration": 0.067435,
     "end_time": "2021-10-08T16:21:52.156426",
     "exception": false,
     "start_time": "2021-10-08T16:21:52.088991",
     "status": "completed"
    },
    "tags": []
   },
   "outputs": [
    {
     "data": {
      "text/html": [
       "<div>\n",
       "<style scoped>\n",
       "    .dataframe tbody tr th:only-of-type {\n",
       "        vertical-align: middle;\n",
       "    }\n",
       "\n",
       "    .dataframe tbody tr th {\n",
       "        vertical-align: top;\n",
       "    }\n",
       "\n",
       "    .dataframe thead th {\n",
       "        text-align: right;\n",
       "    }\n",
       "</style>\n",
       "<table border=\"1\" class=\"dataframe\">\n",
       "  <thead>\n",
       "    <tr style=\"text-align: right;\">\n",
       "      <th></th>\n",
       "      <th>RI</th>\n",
       "      <th>Na</th>\n",
       "      <th>Mg</th>\n",
       "      <th>Al</th>\n",
       "      <th>Si</th>\n",
       "      <th>K</th>\n",
       "      <th>Ca</th>\n",
       "      <th>Ba</th>\n",
       "      <th>Fe</th>\n",
       "      <th>Type</th>\n",
       "    </tr>\n",
       "  </thead>\n",
       "  <tbody>\n",
       "    <tr>\n",
       "      <th>count</th>\n",
       "      <td>214.000000</td>\n",
       "      <td>214.000000</td>\n",
       "      <td>214.000000</td>\n",
       "      <td>214.000000</td>\n",
       "      <td>214.000000</td>\n",
       "      <td>214.000000</td>\n",
       "      <td>214.000000</td>\n",
       "      <td>214.000000</td>\n",
       "      <td>214.000000</td>\n",
       "      <td>214.000000</td>\n",
       "    </tr>\n",
       "    <tr>\n",
       "      <th>mean</th>\n",
       "      <td>1.518365</td>\n",
       "      <td>13.407850</td>\n",
       "      <td>2.684533</td>\n",
       "      <td>1.444907</td>\n",
       "      <td>72.650935</td>\n",
       "      <td>0.497056</td>\n",
       "      <td>8.956963</td>\n",
       "      <td>0.175047</td>\n",
       "      <td>0.057009</td>\n",
       "      <td>2.780374</td>\n",
       "    </tr>\n",
       "    <tr>\n",
       "      <th>std</th>\n",
       "      <td>0.003037</td>\n",
       "      <td>0.816604</td>\n",
       "      <td>1.442408</td>\n",
       "      <td>0.499270</td>\n",
       "      <td>0.774546</td>\n",
       "      <td>0.652192</td>\n",
       "      <td>1.423153</td>\n",
       "      <td>0.497219</td>\n",
       "      <td>0.097439</td>\n",
       "      <td>2.103739</td>\n",
       "    </tr>\n",
       "    <tr>\n",
       "      <th>min</th>\n",
       "      <td>1.511150</td>\n",
       "      <td>10.730000</td>\n",
       "      <td>0.000000</td>\n",
       "      <td>0.290000</td>\n",
       "      <td>69.810000</td>\n",
       "      <td>0.000000</td>\n",
       "      <td>5.430000</td>\n",
       "      <td>0.000000</td>\n",
       "      <td>0.000000</td>\n",
       "      <td>1.000000</td>\n",
       "    </tr>\n",
       "    <tr>\n",
       "      <th>25%</th>\n",
       "      <td>1.516522</td>\n",
       "      <td>12.907500</td>\n",
       "      <td>2.115000</td>\n",
       "      <td>1.190000</td>\n",
       "      <td>72.280000</td>\n",
       "      <td>0.122500</td>\n",
       "      <td>8.240000</td>\n",
       "      <td>0.000000</td>\n",
       "      <td>0.000000</td>\n",
       "      <td>1.000000</td>\n",
       "    </tr>\n",
       "    <tr>\n",
       "      <th>50%</th>\n",
       "      <td>1.517680</td>\n",
       "      <td>13.300000</td>\n",
       "      <td>3.480000</td>\n",
       "      <td>1.360000</td>\n",
       "      <td>72.790000</td>\n",
       "      <td>0.555000</td>\n",
       "      <td>8.600000</td>\n",
       "      <td>0.000000</td>\n",
       "      <td>0.000000</td>\n",
       "      <td>2.000000</td>\n",
       "    </tr>\n",
       "    <tr>\n",
       "      <th>75%</th>\n",
       "      <td>1.519157</td>\n",
       "      <td>13.825000</td>\n",
       "      <td>3.600000</td>\n",
       "      <td>1.630000</td>\n",
       "      <td>73.087500</td>\n",
       "      <td>0.610000</td>\n",
       "      <td>9.172500</td>\n",
       "      <td>0.000000</td>\n",
       "      <td>0.100000</td>\n",
       "      <td>3.000000</td>\n",
       "    </tr>\n",
       "    <tr>\n",
       "      <th>max</th>\n",
       "      <td>1.533930</td>\n",
       "      <td>17.380000</td>\n",
       "      <td>4.490000</td>\n",
       "      <td>3.500000</td>\n",
       "      <td>75.410000</td>\n",
       "      <td>6.210000</td>\n",
       "      <td>16.190000</td>\n",
       "      <td>3.150000</td>\n",
       "      <td>0.510000</td>\n",
       "      <td>7.000000</td>\n",
       "    </tr>\n",
       "  </tbody>\n",
       "</table>\n",
       "</div>"
      ],
      "text/plain": [
       "               RI          Na          Mg          Al          Si           K  \\\n",
       "count  214.000000  214.000000  214.000000  214.000000  214.000000  214.000000   \n",
       "mean     1.518365   13.407850    2.684533    1.444907   72.650935    0.497056   \n",
       "std      0.003037    0.816604    1.442408    0.499270    0.774546    0.652192   \n",
       "min      1.511150   10.730000    0.000000    0.290000   69.810000    0.000000   \n",
       "25%      1.516522   12.907500    2.115000    1.190000   72.280000    0.122500   \n",
       "50%      1.517680   13.300000    3.480000    1.360000   72.790000    0.555000   \n",
       "75%      1.519157   13.825000    3.600000    1.630000   73.087500    0.610000   \n",
       "max      1.533930   17.380000    4.490000    3.500000   75.410000    6.210000   \n",
       "\n",
       "               Ca          Ba          Fe        Type  \n",
       "count  214.000000  214.000000  214.000000  214.000000  \n",
       "mean     8.956963    0.175047    0.057009    2.780374  \n",
       "std      1.423153    0.497219    0.097439    2.103739  \n",
       "min      5.430000    0.000000    0.000000    1.000000  \n",
       "25%      8.240000    0.000000    0.000000    1.000000  \n",
       "50%      8.600000    0.000000    0.000000    2.000000  \n",
       "75%      9.172500    0.000000    0.100000    3.000000  \n",
       "max     16.190000    3.150000    0.510000    7.000000  "
      ]
     },
     "execution_count": 7,
     "metadata": {},
     "output_type": "execute_result"
    }
   ],
   "source": [
    "#Get descriptive statistics of the dataset.\n",
    "df.describe()"
   ]
  },
  {
   "cell_type": "code",
   "execution_count": 8,
   "id": "bd146f09",
   "metadata": {
    "execution": {
     "iopub.execute_input": "2021-10-08T16:21:52.207233Z",
     "iopub.status.busy": "2021-10-08T16:21:52.206239Z",
     "iopub.status.idle": "2021-10-08T16:21:52.213227Z",
     "shell.execute_reply": "2021-10-08T16:21:52.213725Z",
     "shell.execute_reply.started": "2021-10-08T16:19:25.021641Z"
    },
    "papermill": {
     "duration": 0.034633,
     "end_time": "2021-10-08T16:21:52.213931",
     "exception": false,
     "start_time": "2021-10-08T16:21:52.179298",
     "status": "completed"
    },
    "tags": []
   },
   "outputs": [
    {
     "data": {
      "text/plain": [
       "array([1, 2, 3, 5, 6, 7], dtype=int64)"
      ]
     },
     "execution_count": 8,
     "metadata": {},
     "output_type": "execute_result"
    }
   ],
   "source": [
    "#Get dependent variable values.\n",
    "df['Type'].unique()"
   ]
  },
  {
   "cell_type": "markdown",
   "id": "48a300ae",
   "metadata": {
    "papermill": {
     "duration": 0.023955,
     "end_time": "2021-10-08T16:21:52.260707",
     "exception": false,
     "start_time": "2021-10-08T16:21:52.236752",
     "status": "completed"
    },
    "tags": []
   },
   "source": [
    "### 2.0 Data Visualization"
   ]
  },
  {
   "cell_type": "markdown",
   "id": "c8605b43",
   "metadata": {},
   "source": [
    "To see the data distribution, get the visualizations for the predictor variables and bin each predictor with nine containers."
   ]
  },
  {
   "cell_type": "code",
   "execution_count": 9,
   "id": "c30a6af2",
   "metadata": {
    "execution": {
     "iopub.execute_input": "2021-10-08T16:21:52.312520Z",
     "iopub.status.busy": "2021-10-08T16:21:52.311464Z",
     "iopub.status.idle": "2021-10-08T16:21:52.572432Z",
     "shell.execute_reply": "2021-10-08T16:21:52.572968Z",
     "shell.execute_reply.started": "2021-10-08T16:19:25.032182Z"
    },
    "papermill": {
     "duration": 0.288465,
     "end_time": "2021-10-08T16:21:52.573163",
     "exception": false,
     "start_time": "2021-10-08T16:21:52.284698",
     "status": "completed"
    },
    "tags": []
   },
   "outputs": [
    {
     "data": {
      "text/plain": [
       "<AxesSubplot:xlabel='RI', ylabel='Count'>"
      ]
     },
     "execution_count": 9,
     "metadata": {},
     "output_type": "execute_result"
    },
    {
     "data": {
      "image/png": "[encoded data removed]",
      "text/plain": [
       "<Figure size 432x288 with 1 Axes>"
      ]
     },
     "metadata": {
      "needs_background": "light"
     },
     "output_type": "display_data"
    }
   ],
   "source": [
    "sns.histplot(x=df['RI'],bins=9,palette='Set1')"
   ]
  },
  {
   "cell_type": "code",
   "execution_count": 10,
   "id": "43e26ca0",
   "metadata": {},
   "outputs": [
    {
     "data": {
      "text/plain": [
       "<AxesSubplot:xlabel='Na', ylabel='Count'>"
      ]
     },
     "execution_count": 10,
     "metadata": {},
     "output_type": "execute_result"
    },
    {
     "data": {
      "image/png": "[encoded data removed]",
      "text/plain": [
       "<Figure size 432x288 with 1 Axes>"
      ]
     },
     "metadata": {
      "needs_background": "light"
     },
     "output_type": "display_data"
    }
   ],
   "source": [
    "sns.histplot(x=df['Na'],bins=9,palette='Set1')"
   ]
  },
  {
   "cell_type": "code",
   "execution_count": 11,
   "id": "0b63c459",
   "metadata": {},
   "outputs": [
    {
     "data": {
      "text/plain": [
       "<AxesSubplot:xlabel='Mg', ylabel='Count'>"
      ]
     },
     "execution_count": 11,
     "metadata": {},
     "output_type": "execute_result"
    },
    {
     "data": {
      "image/png": "[encoded data removed]",
      "text/plain": [
       "<Figure size 432x288 with 1 Axes>"
      ]
     },
     "metadata": {
      "needs_background": "light"
     },
     "output_type": "display_data"
    }
   ],
   "source": [
    "sns.histplot(x=df['Mg'],bins=9,palette='Set1')"
   ]
  },
  {
   "cell_type": "code",
   "execution_count": 12,
   "id": "7e1026c7",
   "metadata": {
    "execution": {
     "iopub.execute_input": "2021-10-08T16:21:52.620707Z",
     "iopub.status.busy": "2021-10-08T16:21:52.620096Z",
     "iopub.status.idle": "2021-10-08T16:21:52.865352Z",
     "shell.execute_reply": "2021-10-08T16:21:52.864473Z",
     "shell.execute_reply.started": "2021-10-08T16:19:25.310584Z"
    },
    "papermill": {
     "duration": 0.270259,
     "end_time": "2021-10-08T16:21:52.865575",
     "exception": false,
     "start_time": "2021-10-08T16:21:52.595316",
     "status": "completed"
    },
    "tags": []
   },
   "outputs": [
    {
     "name": "stderr",
     "output_type": "stream",
     "text": [
      "C:\\Users\\Ikenna\\anaconda3\\lib\\site-packages\\seaborn\\_decorators.py:36: FutureWarning: Pass the following variable as a keyword arg: x. From version 0.12, the only valid positional argument will be `data`, and passing other arguments without an explicit keyword will result in an error or misinterpretation.\n",
      "  warnings.warn(\n"
     ]
    },
    {
     "data": {
      "text/plain": [
       "<AxesSubplot:xlabel='Type', ylabel='count'>"
      ]
     },
     "execution_count": 12,
     "metadata": {},
     "output_type": "execute_result"
    },
    {
     "data": {
      "image/png": "[encoded data removed]",
      "text/plain": [
       "<Figure size 864x432 with 1 Axes>"
      ]
     },
     "metadata": {
      "needs_background": "light"
     },
     "output_type": "display_data"
    }
   ],
   "source": [
    "#Plot the target variable.\n",
    "plt.figure(figsize=(12,6))\n",
    "sns.countplot(df['Type'])"
   ]
  },
  {
   "cell_type": "code",
   "execution_count": 13,
   "id": "dcdb7c91",
   "metadata": {
    "execution": {
     "iopub.execute_input": "2021-10-08T16:21:52.929517Z",
     "iopub.status.busy": "2021-10-08T16:21:52.924752Z",
     "iopub.status.idle": "2021-10-08T16:21:53.220094Z",
     "shell.execute_reply": "2021-10-08T16:21:53.221524Z",
     "shell.execute_reply.started": "2021-10-08T16:19:25.537801Z"
    },
    "papermill": {
     "duration": 0.331858,
     "end_time": "2021-10-08T16:21:53.222923",
     "exception": false,
     "start_time": "2021-10-08T16:21:52.891065",
     "status": "completed"
    },
    "tags": []
   },
   "outputs": [
    {
     "data": {
      "text/plain": [
       "<AxesSubplot:xlabel='Type', ylabel='RI'>"
      ]
     },
     "execution_count": 13,
     "metadata": {},
     "output_type": "execute_result"
    },
    {
     "data": {
      "image/png": "[encoded data removed]",
      "text/plain": [
       "<Figure size 720x432 with 1 Axes>"
      ]
     },
     "metadata": {
      "needs_background": "light"
     },
     "output_type": "display_data"
    }
   ],
   "source": [
    "#Determine the relationship between the predictor variable RI and the Target column.\n",
    "plt.figure(figsize=(10,6))\n",
    "sns.barplot(x=df['Type'],y=df['RI'],palette='viridis',ci=False)"
   ]
  },
  {
   "cell_type": "code",
   "execution_count": 14,
   "id": "8fde9552",
   "metadata": {},
   "outputs": [
    {
     "data": {
      "text/plain": [
       "<AxesSubplot:xlabel='Type', ylabel='Mg'>"
      ]
     },
     "execution_count": 14,
     "metadata": {},
     "output_type": "execute_result"
    },
    {
     "data": {
      "image/png": "[encoded data removed]",
      "text/plain": [
       "<Figure size 720x432 with 1 Axes>"
      ]
     },
     "metadata": {
      "needs_background": "light"
     },
     "output_type": "display_data"
    }
   ],
   "source": [
    "#Determine the relationship between the predictor variable Mg and the Target column.\n",
    "plt.figure(figsize=(10,6))\n",
    "sns.barplot(x=df['Type'],y=df['Mg'],palette='viridis',ci=False)"
   ]
  },
  {
   "cell_type": "markdown",
   "id": "2a34e14e",
   "metadata": {},
   "source": [
    "The plots show the effect of the independent variable on the target column. With this information, we can determine which predictors will accurately predict the classes of glasses in our model."
   ]
  },
  {
   "cell_type": "code",
   "execution_count": 15,
   "id": "ad3e763d",
   "metadata": {
    "execution": {
     "iopub.execute_input": "2021-10-08T16:21:53.290905Z",
     "iopub.status.busy": "2021-10-08T16:21:53.290250Z",
     "iopub.status.idle": "2021-10-08T16:21:53.296220Z",
     "shell.execute_reply": "2021-10-08T16:21:53.296719Z",
     "shell.execute_reply.started": "2021-10-08T16:19:25.898853Z"
    },
    "papermill": {
     "duration": 0.040205,
     "end_time": "2021-10-08T16:21:53.296886",
     "exception": false,
     "start_time": "2021-10-08T16:21:53.256681",
     "status": "completed"
    },
    "tags": []
   },
   "outputs": [
    {
     "data": {
      "text/plain": [
       "Index(['RI', 'Na', 'Mg', 'Al', 'Si', 'K', 'Ca', 'Ba', 'Fe', 'Type'], dtype='object')"
      ]
     },
     "execution_count": 15,
     "metadata": {},
     "output_type": "execute_result"
    }
   ],
   "source": [
    "#Get the columns for the data set.\n",
    "df.columns"
   ]
  },
  {
   "cell_type": "markdown",
   "id": "60d176df",
   "metadata": {},
   "source": [
    "### 3.0 Data Correlation"
   ]
  },
  {
   "cell_type": "markdown",
   "id": "062aa60c",
   "metadata": {},
   "source": [
    "For the data set, find a correlation between the input features and the target column."
   ]
  },
  {
   "cell_type": "code",
   "execution_count": 16,
   "id": "e30b046f",
   "metadata": {},
   "outputs": [
    {
     "data": {
      "text/html": [
       "<div>\n",
       "<style scoped>\n",
       "    .dataframe tbody tr th:only-of-type {\n",
       "        vertical-align: middle;\n",
       "    }\n",
       "\n",
       "    .dataframe tbody tr th {\n",
       "        vertical-align: top;\n",
       "    }\n",
       "\n",
       "    .dataframe thead th {\n",
       "        text-align: right;\n",
       "    }\n",
       "</style>\n",
       "<table border=\"1\" class=\"dataframe\">\n",
       "  <thead>\n",
       "    <tr style=\"text-align: right;\">\n",
       "      <th></th>\n",
       "      <th>RI</th>\n",
       "      <th>Na</th>\n",
       "      <th>Mg</th>\n",
       "      <th>Al</th>\n",
       "      <th>Si</th>\n",
       "      <th>K</th>\n",
       "      <th>Ca</th>\n",
       "      <th>Ba</th>\n",
       "      <th>Fe</th>\n",
       "      <th>Type</th>\n",
       "    </tr>\n",
       "  </thead>\n",
       "  <tbody>\n",
       "    <tr>\n",
       "      <th>RI</th>\n",
       "      <td>1.000000</td>\n",
       "      <td>-0.191885</td>\n",
       "      <td>-0.122274</td>\n",
       "      <td>-0.407326</td>\n",
       "      <td>-0.542052</td>\n",
       "      <td>-0.289833</td>\n",
       "      <td>0.810403</td>\n",
       "      <td>-0.000386</td>\n",
       "      <td>0.143010</td>\n",
       "      <td>-0.164237</td>\n",
       "    </tr>\n",
       "    <tr>\n",
       "      <th>Na</th>\n",
       "      <td>-0.191885</td>\n",
       "      <td>1.000000</td>\n",
       "      <td>-0.273732</td>\n",
       "      <td>0.156794</td>\n",
       "      <td>-0.069809</td>\n",
       "      <td>-0.266087</td>\n",
       "      <td>-0.275442</td>\n",
       "      <td>0.326603</td>\n",
       "      <td>-0.241346</td>\n",
       "      <td>0.502898</td>\n",
       "    </tr>\n",
       "    <tr>\n",
       "      <th>Mg</th>\n",
       "      <td>-0.122274</td>\n",
       "      <td>-0.273732</td>\n",
       "      <td>1.000000</td>\n",
       "      <td>-0.481799</td>\n",
       "      <td>-0.165927</td>\n",
       "      <td>0.005396</td>\n",
       "      <td>-0.443750</td>\n",
       "      <td>-0.492262</td>\n",
       "      <td>0.083060</td>\n",
       "      <td>-0.744993</td>\n",
       "    </tr>\n",
       "    <tr>\n",
       "      <th>Al</th>\n",
       "      <td>-0.407326</td>\n",
       "      <td>0.156794</td>\n",
       "      <td>-0.481799</td>\n",
       "      <td>1.000000</td>\n",
       "      <td>-0.005524</td>\n",
       "      <td>0.325958</td>\n",
       "      <td>-0.259592</td>\n",
       "      <td>0.479404</td>\n",
       "      <td>-0.074402</td>\n",
       "      <td>0.598829</td>\n",
       "    </tr>\n",
       "    <tr>\n",
       "      <th>Si</th>\n",
       "      <td>-0.542052</td>\n",
       "      <td>-0.069809</td>\n",
       "      <td>-0.165927</td>\n",
       "      <td>-0.005524</td>\n",
       "      <td>1.000000</td>\n",
       "      <td>-0.193331</td>\n",
       "      <td>-0.208732</td>\n",
       "      <td>-0.102151</td>\n",
       "      <td>-0.094201</td>\n",
       "      <td>0.151565</td>\n",
       "    </tr>\n",
       "    <tr>\n",
       "      <th>K</th>\n",
       "      <td>-0.289833</td>\n",
       "      <td>-0.266087</td>\n",
       "      <td>0.005396</td>\n",
       "      <td>0.325958</td>\n",
       "      <td>-0.193331</td>\n",
       "      <td>1.000000</td>\n",
       "      <td>-0.317836</td>\n",
       "      <td>-0.042618</td>\n",
       "      <td>-0.007719</td>\n",
       "      <td>-0.010054</td>\n",
       "    </tr>\n",
       "    <tr>\n",
       "      <th>Ca</th>\n",
       "      <td>0.810403</td>\n",
       "      <td>-0.275442</td>\n",
       "      <td>-0.443750</td>\n",
       "      <td>-0.259592</td>\n",
       "      <td>-0.208732</td>\n",
       "      <td>-0.317836</td>\n",
       "      <td>1.000000</td>\n",
       "      <td>-0.112841</td>\n",
       "      <td>0.124968</td>\n",
       "      <td>0.000952</td>\n",
       "    </tr>\n",
       "    <tr>\n",
       "      <th>Ba</th>\n",
       "      <td>-0.000386</td>\n",
       "      <td>0.326603</td>\n",
       "      <td>-0.492262</td>\n",
       "      <td>0.479404</td>\n",
       "      <td>-0.102151</td>\n",
       "      <td>-0.042618</td>\n",
       "      <td>-0.112841</td>\n",
       "      <td>1.000000</td>\n",
       "      <td>-0.058692</td>\n",
       "      <td>0.575161</td>\n",
       "    </tr>\n",
       "    <tr>\n",
       "      <th>Fe</th>\n",
       "      <td>0.143010</td>\n",
       "      <td>-0.241346</td>\n",
       "      <td>0.083060</td>\n",
       "      <td>-0.074402</td>\n",
       "      <td>-0.094201</td>\n",
       "      <td>-0.007719</td>\n",
       "      <td>0.124968</td>\n",
       "      <td>-0.058692</td>\n",
       "      <td>1.000000</td>\n",
       "      <td>-0.188278</td>\n",
       "    </tr>\n",
       "    <tr>\n",
       "      <th>Type</th>\n",
       "      <td>-0.164237</td>\n",
       "      <td>0.502898</td>\n",
       "      <td>-0.744993</td>\n",
       "      <td>0.598829</td>\n",
       "      <td>0.151565</td>\n",
       "      <td>-0.010054</td>\n",
       "      <td>0.000952</td>\n",
       "      <td>0.575161</td>\n",
       "      <td>-0.188278</td>\n",
       "      <td>1.000000</td>\n",
       "    </tr>\n",
       "  </tbody>\n",
       "</table>\n",
       "</div>"
      ],
      "text/plain": [
       "            RI        Na        Mg        Al        Si         K        Ca  \\\n",
       "RI    1.000000 -0.191885 -0.122274 -0.407326 -0.542052 -0.289833  0.810403   \n",
       "Na   -0.191885  1.000000 -0.273732  0.156794 -0.069809 -0.266087 -0.275442   \n",
       "Mg   -0.122274 -0.273732  1.000000 -0.481799 -0.165927  0.005396 -0.443750   \n",
       "Al   -0.407326  0.156794 -0.481799  1.000000 -0.005524  0.325958 -0.259592   \n",
       "Si   -0.542052 -0.069809 -0.165927 -0.005524  1.000000 -0.193331 -0.208732   \n",
       "K    -0.289833 -0.266087  0.005396  0.325958 -0.193331  1.000000 -0.317836   \n",
       "Ca    0.810403 -0.275442 -0.443750 -0.259592 -0.208732 -0.317836  1.000000   \n",
       "Ba   -0.000386  0.326603 -0.492262  0.479404 -0.102151 -0.042618 -0.112841   \n",
       "Fe    0.143010 -0.241346  0.083060 -0.074402 -0.094201 -0.007719  0.124968   \n",
       "Type -0.164237  0.502898 -0.744993  0.598829  0.151565 -0.010054  0.000952   \n",
       "\n",
       "            Ba        Fe      Type  \n",
       "RI   -0.000386  0.143010 -0.164237  \n",
       "Na    0.326603 -0.241346  0.502898  \n",
       "Mg   -0.492262  0.083060 -0.744993  \n",
       "Al    0.479404 -0.074402  0.598829  \n",
       "Si   -0.102151 -0.094201  0.151565  \n",
       "K    -0.042618 -0.007719 -0.010054  \n",
       "Ca   -0.112841  0.124968  0.000952  \n",
       "Ba    1.000000 -0.058692  0.575161  \n",
       "Fe   -0.058692  1.000000 -0.188278  \n",
       "Type  0.575161 -0.188278  1.000000  "
      ]
     },
     "execution_count": 16,
     "metadata": {},
     "output_type": "execute_result"
    }
   ],
   "source": [
    "df.corr()"
   ]
  },
  {
   "cell_type": "code",
   "execution_count": 17,
   "id": "c95f1e09",
   "metadata": {
    "execution": {
     "iopub.execute_input": "2021-10-08T16:21:53.357828Z",
     "iopub.status.busy": "2021-10-08T16:21:53.357228Z",
     "iopub.status.idle": "2021-10-08T16:21:54.097910Z",
     "shell.execute_reply": "2021-10-08T16:21:54.098346Z",
     "shell.execute_reply.started": "2021-10-08T16:19:25.907842Z"
    },
    "papermill": {
     "duration": 0.770449,
     "end_time": "2021-10-08T16:21:54.098503",
     "exception": false,
     "start_time": "2021-10-08T16:21:53.328054",
     "status": "completed"
    },
    "tags": []
   },
   "outputs": [
    {
     "data": {
      "text/plain": [
       "<AxesSubplot:>"
      ]
     },
     "execution_count": 17,
     "metadata": {},
     "output_type": "execute_result"
    },
    {
     "data": {
      "image/png": "[encoded data removed]",
      "text/plain": [
       "<Figure size 1440x720 with 2 Axes>"
      ]
     },
     "metadata": {
      "needs_background": "light"
     },
     "output_type": "display_data"
    }
   ],
   "source": [
    "plt.figure(figsize=(20,10))\n",
    "sns.heatmap(df.corr(),annot=True)"
   ]
  },
  {
   "cell_type": "markdown",
   "id": "d89824bd",
   "metadata": {},
   "source": [
    "According to the heatmap, Ba, Ca, Si, AI, and Na are all positively correlated with Type, but the rest of the inputs are not."
   ]
  },
  {
   "cell_type": "markdown",
   "id": "bd3168df",
   "metadata": {
    "papermill": {
     "duration": 0.025994,
     "end_time": "2021-10-08T16:21:54.150192",
     "exception": false,
     "start_time": "2021-10-08T16:21:54.124198",
     "status": "completed"
    },
    "tags": []
   },
   "source": [
    "### 4.0 Modeling "
   ]
  },
  {
   "cell_type": "markdown",
   "id": "c51b53c3",
   "metadata": {},
   "source": [
    "To begin modelling the data, seggregate the data into X and y variables. Where X is the predictor and y is the target feature."
   ]
  },
  {
   "cell_type": "code",
   "execution_count": 18,
   "id": "5f70f912",
   "metadata": {
    "execution": {
     "iopub.execute_input": "2021-10-08T16:21:54.206718Z",
     "iopub.status.busy": "2021-10-08T16:21:54.206122Z",
     "iopub.status.idle": "2021-10-08T16:21:54.208733Z",
     "shell.execute_reply": "2021-10-08T16:21:54.208246Z",
     "shell.execute_reply.started": "2021-10-08T16:19:26.872620Z"
    },
    "papermill": {
     "duration": 0.03327,
     "end_time": "2021-10-08T16:21:54.208870",
     "exception": false,
     "start_time": "2021-10-08T16:21:54.175600",
     "status": "completed"
    },
    "tags": []
   },
   "outputs": [],
   "source": [
    "#Remove the column name \"Type\" from the dataframe and pass it to the variable \"X\".\n",
    "X=df.drop('Type',axis=1)"
   ]
  },
  {
   "cell_type": "code",
   "execution_count": 19,
   "id": "9cad13a7",
   "metadata": {
    "execution": {
     "iopub.execute_input": "2021-10-08T16:21:54.264499Z",
     "iopub.status.busy": "2021-10-08T16:21:54.263948Z",
     "iopub.status.idle": "2021-10-08T16:21:54.266158Z",
     "shell.execute_reply": "2021-10-08T16:21:54.266614Z",
     "shell.execute_reply.started": "2021-10-08T16:19:26.879751Z"
    },
    "papermill": {
     "duration": 0.03226,
     "end_time": "2021-10-08T16:21:54.266788",
     "exception": false,
     "start_time": "2021-10-08T16:21:54.234528",
     "status": "completed"
    },
    "tags": []
   },
   "outputs": [],
   "source": [
    "#Set data column Type to y.\n",
    "y=df['Type']"
   ]
  },
  {
   "cell_type": "markdown",
   "id": "27d2e2e2",
   "metadata": {
    "papermill": {
     "duration": 0.025126,
     "end_time": "2021-10-08T16:21:54.317286",
     "exception": false,
     "start_time": "2021-10-08T16:21:54.292160",
     "status": "completed"
    },
    "tags": []
   },
   "source": [
    "### 4.1 Data Preprocessing"
   ]
  },
  {
   "cell_type": "code",
   "execution_count": 20,
   "id": "8837b2f3",
   "metadata": {
    "execution": {
     "iopub.execute_input": "2021-10-08T16:21:54.372541Z",
     "iopub.status.busy": "2021-10-08T16:21:54.371837Z",
     "iopub.status.idle": "2021-10-08T16:21:54.629712Z",
     "shell.execute_reply": "2021-10-08T16:21:54.629183Z",
     "shell.execute_reply.started": "2021-10-08T16:19:26.893032Z"
    },
    "papermill": {
     "duration": 0.287271,
     "end_time": "2021-10-08T16:21:54.629847",
     "exception": false,
     "start_time": "2021-10-08T16:21:54.342576",
     "status": "completed"
    },
    "tags": []
   },
   "outputs": [],
   "source": [
    "#Import data preprocessing library.\n",
    "from sklearn.model_selection import train_test_split"
   ]
  },
  {
   "cell_type": "code",
   "execution_count": 21,
   "id": "798fceac",
   "metadata": {
    "execution": {
     "iopub.execute_input": "2021-10-08T16:21:54.685582Z",
     "iopub.status.busy": "2021-10-08T16:21:54.684623Z",
     "iopub.status.idle": "2021-10-08T16:21:54.692205Z",
     "shell.execute_reply": "2021-10-08T16:21:54.692610Z",
     "shell.execute_reply.started": "2021-10-08T16:19:27.080803Z"
    },
    "papermill": {
     "duration": 0.037064,
     "end_time": "2021-10-08T16:21:54.692793",
     "exception": false,
     "start_time": "2021-10-08T16:21:54.655729",
     "status": "completed"
    },
    "tags": []
   },
   "outputs": [],
   "source": [
    "#Split the dataset into training and testing sets.\n",
    "X_train, X_test, y_train, y_test = train_test_split(X, y, test_size=0.2, random_state=12345)"
   ]
  },
  {
   "cell_type": "code",
   "execution_count": 22,
   "id": "ad3288e0",
   "metadata": {
    "execution": {
     "iopub.execute_input": "2021-10-08T16:21:54.749257Z",
     "iopub.status.busy": "2021-10-08T16:21:54.748662Z",
     "iopub.status.idle": "2021-10-08T16:21:54.750957Z",
     "shell.execute_reply": "2021-10-08T16:21:54.750362Z",
     "shell.execute_reply.started": "2021-10-08T16:19:27.090629Z"
    },
    "papermill": {
     "duration": 0.032103,
     "end_time": "2021-10-08T16:21:54.751089",
     "exception": false,
     "start_time": "2021-10-08T16:21:54.718986",
     "status": "completed"
    },
    "tags": []
   },
   "outputs": [],
   "source": [
    "#To prepare the data set for modelling, use a conventional scaler algorithm.\n",
    "from sklearn.preprocessing import StandardScaler\n",
    "scaler=StandardScaler()\n",
    "X_train=scaler.fit_transform(X_train)\n",
    "X_test=scaler.transform(X_test)"
   ]
  },
  {
   "cell_type": "markdown",
   "id": "e222fae2",
   "metadata": {
    "papermill": {
     "duration": 0.025065,
     "end_time": "2021-10-08T16:21:55.010580",
     "exception": false,
     "start_time": "2021-10-08T16:21:54.985515",
     "status": "completed"
    },
    "tags": []
   },
   "source": [
    "### 4.2 Model Development"
   ]
  },
  {
   "cell_type": "markdown",
   "id": "d74498ba",
   "metadata": {},
   "source": [
    "Model the data using several machine learning techniques such as Random Forest, KNN, etc. to discover which one performs best. I'm just going to try four algorithms for this study."
   ]
  },
  {
   "cell_type": "code",
   "execution_count": 23,
   "id": "1f2b1554",
   "metadata": {
    "execution": {
     "iopub.execute_input": "2021-10-08T16:21:55.064084Z",
     "iopub.status.busy": "2021-10-08T16:21:55.063496Z",
     "iopub.status.idle": "2021-10-08T16:21:55.232599Z",
     "shell.execute_reply": "2021-10-08T16:21:55.231974Z",
     "shell.execute_reply.started": "2021-10-08T16:19:27.147604Z"
    },
    "papermill": {
     "duration": 0.19702,
     "end_time": "2021-10-08T16:21:55.232763",
     "exception": false,
     "start_time": "2021-10-08T16:21:55.035743",
     "status": "completed"
    },
    "tags": []
   },
   "outputs": [],
   "source": [
    "#Import machine learning algorithm.\n",
    "from sklearn.linear_model import LogisticRegression\n",
    "from sklearn.neighbors import KNeighborsClassifier\n",
    "from sklearn.ensemble import RandomForestClassifier\n",
    "from sklearn.ensemble import GradientBoostingClassifier"
   ]
  },
  {
   "cell_type": "code",
   "execution_count": 24,
   "id": "3b21594c",
   "metadata": {
    "execution": {
     "iopub.execute_input": "2021-10-08T16:21:55.290012Z",
     "iopub.status.busy": "2021-10-08T16:21:55.289058Z",
     "iopub.status.idle": "2021-10-08T16:21:55.313489Z",
     "shell.execute_reply": "2021-10-08T16:21:55.312954Z",
     "shell.execute_reply.started": "2021-10-08T16:19:27.353973Z"
    },
    "papermill": {
     "duration": 0.055094,
     "end_time": "2021-10-08T16:21:55.313628",
     "exception": false,
     "start_time": "2021-10-08T16:21:55.258534",
     "status": "completed"
    },
    "tags": []
   },
   "outputs": [
    {
     "data": {
      "text/plain": [
       "LogisticRegression()"
      ]
     },
     "execution_count": 24,
     "metadata": {},
     "output_type": "execute_result"
    }
   ],
   "source": [
    "#Get the data into logistics classifier algorithm.\n",
    "log_model=LogisticRegression()\n",
    "log_model.fit(X_train,y_train)"
   ]
  },
  {
   "cell_type": "code",
   "execution_count": 25,
   "id": "3d4a986a",
   "metadata": {},
   "outputs": [
    {
     "data": {
      "text/plain": [
       "KNeighborsClassifier()"
      ]
     },
     "execution_count": 25,
     "metadata": {},
     "output_type": "execute_result"
    }
   ],
   "source": [
    "#Get the data into KNN as well.\n",
    "knn_model=KNeighborsClassifier()\n",
    "knn_model.fit(X_train,y_train)"
   ]
  },
  {
   "cell_type": "code",
   "execution_count": 26,
   "id": "fbd9cb47",
   "metadata": {},
   "outputs": [
    {
     "data": {
      "text/plain": [
       "RandomForestClassifier()"
      ]
     },
     "execution_count": 26,
     "metadata": {},
     "output_type": "execute_result"
    }
   ],
   "source": [
    "#Same for random forest classifier.\n",
    "rfc_model=RandomForestClassifier()\n",
    "rfc_model.fit(X_train,y_train)"
   ]
  },
  {
   "cell_type": "code",
   "execution_count": 27,
   "id": "9f89bae4",
   "metadata": {},
   "outputs": [
    {
     "data": {
      "text/plain": [
       "GradientBoostingClassifier()"
      ]
     },
     "execution_count": 27,
     "metadata": {},
     "output_type": "execute_result"
    }
   ],
   "source": [
    "gbc_model=GradientBoostingClassifier()\n",
    "gbc_model.fit(X_train,y_train)"
   ]
  },
  {
   "cell_type": "markdown",
   "id": "6e85438e",
   "metadata": {},
   "source": [
    "### 4.3 Model Report"
   ]
  },
  {
   "cell_type": "code",
   "execution_count": 28,
   "id": "95ffa989",
   "metadata": {
    "execution": {
     "iopub.execute_input": "2021-10-08T16:21:55.638449Z",
     "iopub.status.busy": "2021-10-08T16:21:55.637556Z",
     "iopub.status.idle": "2021-10-08T16:21:55.641732Z",
     "shell.execute_reply": "2021-10-08T16:21:55.641268Z",
     "shell.execute_reply.started": "2021-10-08T16:19:27.562593Z"
    },
    "papermill": {
     "duration": 0.033287,
     "end_time": "2021-10-08T16:21:55.641865",
     "exception": false,
     "start_time": "2021-10-08T16:21:55.608578",
     "status": "completed"
    },
    "tags": []
   },
   "outputs": [],
   "source": [
    "from sklearn.metrics import plot_confusion_matrix,classification_report"
   ]
  },
  {
   "cell_type": "code",
   "execution_count": 29,
   "id": "376c54c6",
   "metadata": {
    "execution": {
     "iopub.execute_input": "2021-10-08T16:21:55.699376Z",
     "iopub.status.busy": "2021-10-08T16:21:55.698820Z",
     "iopub.status.idle": "2021-10-08T16:21:55.700832Z",
     "shell.execute_reply": "2021-10-08T16:21:55.701257Z",
     "shell.execute_reply.started": "2021-10-08T16:19:27.568857Z"
    },
    "papermill": {
     "duration": 0.033161,
     "end_time": "2021-10-08T16:21:55.701428",
     "exception": false,
     "start_time": "2021-10-08T16:21:55.668267",
     "status": "completed"
    },
    "tags": []
   },
   "outputs": [],
   "source": [
    "def report(model):\n",
    "    preds = model.predict(X_test)\n",
    "    print(classification_report(y_test,preds))\n",
    "    plot_confusion_matrix(model,X_test,y_test)"
   ]
  },
  {
   "cell_type": "markdown",
   "id": "ad170bac",
   "metadata": {},
   "source": [
    "#### Logistics Regression"
   ]
  },
  {
   "cell_type": "code",
   "execution_count": 30,
   "id": "0af9b118",
   "metadata": {
    "execution": {
     "iopub.execute_input": "2021-10-08T16:21:55.757825Z",
     "iopub.status.busy": "2021-10-08T16:21:55.757210Z",
     "iopub.status.idle": "2021-10-08T16:21:56.098727Z",
     "shell.execute_reply": "2021-10-08T16:21:56.099177Z",
     "shell.execute_reply.started": "2021-10-08T16:19:27.582413Z"
    },
    "papermill": {
     "duration": 0.37189,
     "end_time": "2021-10-08T16:21:56.099334",
     "exception": false,
     "start_time": "2021-10-08T16:21:55.727444",
     "status": "completed"
    },
    "tags": []
   },
   "outputs": [
    {
     "name": "stdout",
     "output_type": "stream",
     "text": [
      "Logistics Regression Model\n",
      "              precision    recall  f1-score   support\n",
      "\n",
      "           1       0.64      0.56      0.60        16\n",
      "           2       0.42      0.62      0.50        13\n",
      "           3       0.00      0.00      0.00         4\n",
      "           5       1.00      0.50      0.67         2\n",
      "           6       0.50      0.33      0.40         3\n",
      "           7       0.80      0.80      0.80         5\n",
      "\n",
      "    accuracy                           0.53        43\n",
      "   macro avg       0.56      0.47      0.49        43\n",
      "weighted avg       0.54      0.53      0.53        43\n",
      "\n"
     ]
    },
    {
     "data": {
      "image/png": "[encoded data removed]",
      "text/plain": [
       "<Figure size 432x288 with 2 Axes>"
      ]
     },
     "metadata": {
      "needs_background": "light"
     },
     "output_type": "display_data"
    }
   ],
   "source": [
    "print(\"Logistics Regression Model\")\n",
    "report(log_model)"
   ]
  },
  {
   "cell_type": "markdown",
   "id": "47636606",
   "metadata": {},
   "source": [
    "#### K-Nearest Neighbour"
   ]
  },
  {
   "cell_type": "code",
   "execution_count": 31,
   "id": "e6c6b980",
   "metadata": {},
   "outputs": [
    {
     "name": "stdout",
     "output_type": "stream",
     "text": [
      "KNN Classfier Model\n",
      "              precision    recall  f1-score   support\n",
      "\n",
      "           1       0.57      0.75      0.65        16\n",
      "           2       0.50      0.46      0.48        13\n",
      "           3       0.00      0.00      0.00         4\n",
      "           5       0.25      0.50      0.33         2\n",
      "           6       1.00      0.67      0.80         3\n",
      "           7       1.00      0.80      0.89         5\n",
      "\n",
      "    accuracy                           0.58        43\n",
      "   macro avg       0.55      0.53      0.53        43\n",
      "weighted avg       0.56      0.58      0.56        43\n",
      "\n"
     ]
    },
    {
     "name": "stderr",
     "output_type": "stream",
     "text": [
      "C:\\Users\\Ikenna\\anaconda3\\lib\\site-packages\\sklearn\\metrics\\_classification.py:1245: UndefinedMetricWarning: Precision and F-score are ill-defined and being set to 0.0 in labels with no predicted samples. Use `zero_division` parameter to control this behavior.\n",
      "  _warn_prf(average, modifier, msg_start, len(result))\n",
      "C:\\Users\\Ikenna\\anaconda3\\lib\\site-packages\\sklearn\\metrics\\_classification.py:1245: UndefinedMetricWarning: Precision and F-score are ill-defined and being set to 0.0 in labels with no predicted samples. Use `zero_division` parameter to control this behavior.\n",
      "  _warn_prf(average, modifier, msg_start, len(result))\n",
      "C:\\Users\\Ikenna\\anaconda3\\lib\\site-packages\\sklearn\\metrics\\_classification.py:1245: UndefinedMetricWarning: Precision and F-score are ill-defined and being set to 0.0 in labels with no predicted samples. Use `zero_division` parameter to control this behavior.\n",
      "  _warn_prf(average, modifier, msg_start, len(result))\n"
     ]
    },
    {
     "data": {
      "image/png": "[encoded data removed]",
      "text/plain": [
       "<Figure size 432x288 with 2 Axes>"
      ]
     },
     "metadata": {
      "needs_background": "light"
     },
     "output_type": "display_data"
    }
   ],
   "source": [
    "print(\"KNN Classfier Model\")\n",
    "report(knn_model)"
   ]
  },
  {
   "cell_type": "markdown",
   "id": "ffff5dc2",
   "metadata": {},
   "source": [
    "#### Random Forest"
   ]
  },
  {
   "cell_type": "code",
   "execution_count": 32,
   "id": "2fe60e12",
   "metadata": {
    "execution": {
     "iopub.execute_input": "2021-10-08T16:21:56.571770Z",
     "iopub.status.busy": "2021-10-08T16:21:56.570549Z",
     "iopub.status.idle": "2021-10-08T16:21:56.909178Z",
     "shell.execute_reply": "2021-10-08T16:21:56.908682Z",
     "shell.execute_reply.started": "2021-10-08T16:19:28.410378Z"
    },
    "papermill": {
     "duration": 0.372538,
     "end_time": "2021-10-08T16:21:56.909314",
     "exception": false,
     "start_time": "2021-10-08T16:21:56.536776",
     "status": "completed"
    },
    "tags": []
   },
   "outputs": [
    {
     "name": "stdout",
     "output_type": "stream",
     "text": [
      "Random Forest Classifier Model\n",
      "              precision    recall  f1-score   support\n",
      "\n",
      "           1       0.76      0.81      0.79        16\n",
      "           2       0.73      0.85      0.79        13\n",
      "           3       1.00      0.25      0.40         4\n",
      "           5       1.00      1.00      1.00         2\n",
      "           6       0.75      1.00      0.86         3\n",
      "           7       1.00      0.80      0.89         5\n",
      "\n",
      "    accuracy                           0.79        43\n",
      "   macro avg       0.87      0.78      0.79        43\n",
      "weighted avg       0.81      0.79      0.78        43\n",
      "\n"
     ]
    },
    {
     "data": {
      "image/png": "[encoded data removed]",
      "text/plain": [
       "<Figure size 432x288 with 2 Axes>"
      ]
     },
     "metadata": {
      "needs_background": "light"
     },
     "output_type": "display_data"
    }
   ],
   "source": [
    "print(\"Random Forest Classifier Model\")\n",
    "report(rfc_model)"
   ]
  },
  {
   "cell_type": "markdown",
   "id": "252ea642",
   "metadata": {},
   "source": [
    "#### Gradient Boosting Classifier"
   ]
  },
  {
   "cell_type": "code",
   "execution_count": 33,
   "id": "af75717f",
   "metadata": {},
   "outputs": [
    {
     "name": "stdout",
     "output_type": "stream",
     "text": [
      "Gradient Boosting Classifier Model\n",
      "              precision    recall  f1-score   support\n",
      "\n",
      "           1       0.88      0.88      0.88        16\n",
      "           2       0.62      0.77      0.69        13\n",
      "           3       0.50      0.25      0.33         4\n",
      "           5       0.50      0.50      0.50         2\n",
      "           6       0.50      0.33      0.40         3\n",
      "           7       0.60      0.60      0.60         5\n",
      "\n",
      "    accuracy                           0.70        43\n",
      "   macro avg       0.60      0.55      0.57        43\n",
      "weighted avg       0.69      0.70      0.69        43\n",
      "\n"
     ]
    },
    {
     "data": {
      "image/png": "[encoded data removed]",
      "text/plain": [
       "<Figure size 432x288 with 2 Axes>"
      ]
     },
     "metadata": {
      "needs_background": "light"
     },
     "output_type": "display_data"
    }
   ],
   "source": [
    "print(\"Gradient Boosting Classifier Model\")\n",
    "report(gbc_model)"
   ]
  },
  {
   "cell_type": "markdown",
   "id": "a9d09900",
   "metadata": {},
   "source": [
    "### 5. Conclusion"
   ]
  },
  {
   "cell_type": "markdown",
   "id": "eef91dbc",
   "metadata": {},
   "source": [
    "Based on the performance of the four machine learning algorithms, we can conclude that the Random Forest Classifier outperforms the other techniques in predicting the target dataset with high accuracy. This model can serve as a valuable tool for industries working with the specified glass types, enabling efficient and accurate classification of glass for various applications. To integrate this model into a production environment, it can be deployed as a REST API, allowing seamless access for companies to utilize its predictions. However, before commercial use, the model should undergo thorough validation to ensure reliability and compliance with industry standards."
   ]
  }
 ],
 "metadata": {
  "kernelspec": {
   "display_name": "Python 3",
   "language": "python",
   "name": "python3"
  },
  "language_info": {
   "codemirror_mode": {
    "name": "ipython",
    "version": 3
   },
   "file_extension": ".py",
   "mimetype": "text/x-python",
   "name": "python",
   "nbconvert_exporter": "python",
   "pygments_lexer": "ipython3",
   "version": "3.8.8"
  },
  "papermill": {
   "default_parameters": {},
   "duration": 14.728239,
   "end_time": "2021-10-08T16:21:58.840153",
   "environment_variables": {},
   "exception": null,
   "input_path": "__notebook__.ipynb",
   "output_path": "__notebook__.ipynb",
   "parameters": {},
   "start_time": "2021-10-08T16:21:44.111914",
   "version": "2.3.3"
  }
 },
 "nbformat": 4,
 "nbformat_minor": 5
}
